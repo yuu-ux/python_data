pip install tabula-py
import pandas as pd
import tabula

# lattice=Trueでテーブルの軸線でセルを判定
dfs = tabula.read_pdf("ZMW_202311data.pdf", lattice=True, pages='222-231')

# すべてのテーブルを1つのデータフレームに結合
combined_df = pd.concat(dfs, ignore_index=True)

# 結合されたデータフレームをCSVに保存
combined_df.to_excel("結合されたPDFの表.xlsx", index=None)
