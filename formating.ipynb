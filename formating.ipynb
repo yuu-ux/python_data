import pandas as pd

# 都道府県リスト
prefectures = [
    "北海道", "青森県", "岩手県", "宮城県", "秋田県", "山形県", "福島県",
    "茨城県", "栃木県", "群馬県", "埼玉県", "千葉県", "東京都", "神奈川県",
    "新潟県", "富山県", "石川県", "福井県", "山梨県", "長野県", "岐阜県", 
    "静岡県", "愛知県", "三重県", "滋賀県", "京都府", "大阪府", "兵庫県",
    "奈良県", "和歌山県", "鳥取県", "島根県", "岡山県", "広島県", "山口県",
    "徳島県", "香川県", "愛媛県", "高知県", "福岡県", "佐賀県", "長崎県",
    "熊本県", "大分県", "宮崎県", "鹿児島県", "沖縄県"
]

input_file = '結合されたPDFの表 - Sheet1 (1).csv'
output_file = '新築戸建て住宅レポート.csv'

# CSVファイルを読み込む
df = pd.read_csv(input_file)

# 13行ごとに4行を削除する処理
rows_to_keep = [i for i in range(len(df)) if i < 13 or (i - 13) % 17 >= 4]
df_filtered = df.iloc[rows_to_keep]

# 行インデックスをリセット
df_filtered = df_filtered.reset_index(drop=True)

# 既存の都道府県列に値を追加
for i in range(len(df_filtered)):
    prefecture_index = (i // 13) % len(prefectures)
    df_filtered.at[i, df_filtered.columns[0]] = prefectures[prefecture_index]

# 変更したDataFrameをCSVに書き出す
df_filtered.to_csv(output_file, index=False)
